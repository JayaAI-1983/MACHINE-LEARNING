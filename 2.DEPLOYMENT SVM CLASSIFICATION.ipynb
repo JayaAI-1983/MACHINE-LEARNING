{
 "cells": [
  {
   "cell_type": "code",
   "execution_count": 14,
   "id": "a35c0256-3c49-49b8-a8aa-0eec2c99c2ae",
   "metadata": {},
   "outputs": [
    {
     "name": "stdout",
     "output_type": "stream",
     "text": [
      "Please enter the following values:\n"
     ]
    },
    {
     "name": "stdin",
     "output_type": "stream",
     "text": [
      "Age:  45\n",
      "Blood Pressure:  125\n",
      "Albumin:  3\n",
      "Sugar:  1\n",
      "Blood Glucose:  125\n",
      "Blood Urea:  256\n",
      "Serum Creatinine:  256\n",
      "Sodium:  523\n",
      "Potassium:  5\n",
      "Hemoglobin:  12\n",
      "Packed Cell Volume:  256\n",
      "White Blood Cell Count:  1256\n",
      "Red Blood Cell Count:  3658\n",
      "SG_b (0/1):  1\n",
      "SG_c (0/1):  0\n",
      "SG_d (0/1):  1\n",
      "SG_e (0/1):  0\n",
      "RBC_normal (0/1):  1\n",
      "PC_normal (0/1):  1\n",
      "PCC_present (0/1):  1\n",
      "BA_present (0/1):  1\n",
      "Hypertension (0/1):  1\n",
      "Diabetes Mellitus (0/1):  1\n",
      "Coronary Artery Disease (0/1):  1\n",
      "Appetite Normal (0/1):  1\n",
      "Pedal Edema (0/1):  1\n",
      "Anemia (0/1):  1\n"
     ]
    },
    {
     "name": "stdout",
     "output_type": "stream",
     "text": [
      "Prediction: No CKD\n"
     ]
    }
   ],
   "source": [
    "import pickle\n",
    "\n",
    "# Load model and scaler\n",
    "model = pickle.load(open(\"final_model_svm.sav\", \"rb\"))\n",
    "scaler = pickle.load(open(\"final_model_scaler.sav\", \"rb\"))\n",
    "\n",
    "# Ask for user input\n",
    "print(\"Please enter the following values:\")\n",
    "age = float(input(\"Age: \"))\n",
    "bp = float(input(\"Blood Pressure: \"))\n",
    "al = float(input(\"Albumin: \"))\n",
    "su = float(input(\"Sugar: \"))\n",
    "bgr = float(input(\"Blood Glucose: \"))\n",
    "bu = float(input(\"Blood Urea: \"))\n",
    "sc_val = float(input(\"Serum Creatinine: \"))\n",
    "sod = float(input(\"Sodium: \"))\n",
    "pot = float(input(\"Potassium: \"))\n",
    "hrmo = float(input(\"Hemoglobin: \"))\n",
    "pcv = float(input(\"Packed Cell Volume: \"))\n",
    "wc = float(input(\"White Blood Cell Count: \"))\n",
    "rc = float(input(\"Red Blood Cell Count: \"))\n",
    "sg_b = float(input(\"SG_b (0/1): \"))\n",
    "sg_c = float(input(\"SG_c (0/1): \"))\n",
    "sg_d = float(input(\"SG_d (0/1): \"))\n",
    "sg_e = float(input(\"SG_e (0/1): \"))\n",
    "rbc_normal = float(input(\"RBC_normal (0/1): \"))\n",
    "pc_normal = float(input(\"PC_normal (0/1): \"))\n",
    "pcc_present = float(input(\"PCC_present (0/1): \"))\n",
    "ba_present = float(input(\"BA_present (0/1): \"))\n",
    "htn_yes = float(input(\"Hypertension (0/1): \"))\n",
    "dm_yes = float(input(\"Diabetes Mellitus (0/1): \"))\n",
    "cad_yes = float(input(\"Coronary Artery Disease (0/1): \"))\n",
    "appet_yes = float(input(\"Appetite Normal (0/1): \"))\n",
    "pe_yes = float(input(\"Pedal Edema (0/1): \"))\n",
    "ane_yes = float(input(\"Anemia (0/1): \"))\n",
    "\n",
    "# Form input\n",
    "user_input = [[age, bp, al, su, bgr, bu, sc_val, sod, pot, hrmo, pcv,\n",
    "               wc, rc, sg_b, sg_c, sg_d, sg_e, rbc_normal, pc_normal,\n",
    "               pcc_present, ba_present, htn_yes, dm_yes, cad_yes,\n",
    "               appet_yes, pe_yes, ane_yes]]\n",
    "\n",
    "# Scale and predict\n",
    "scaled = scaler.transform(user_input)\n",
    "prediction = model.predict(scaled)\n",
    "\n",
    "print(\"Prediction:\", \"CKD\" if prediction[0] == 1 else \"No CKD\")\n"
   ]
  },
  {
   "cell_type": "code",
   "execution_count": null,
   "id": "b4080c0a-1975-424a-affa-44fe7000ed43",
   "metadata": {},
   "outputs": [],
   "source": []
  }
 ],
 "metadata": {
  "kernelspec": {
   "display_name": "Python 3 (ipykernel)",
   "language": "python",
   "name": "python3"
  },
  "language_info": {
   "codemirror_mode": {
    "name": "ipython",
    "version": 3
   },
   "file_extension": ".py",
   "mimetype": "text/x-python",
   "name": "python",
   "nbconvert_exporter": "python",
   "pygments_lexer": "ipython3",
   "version": "3.12.7"
  }
 },
 "nbformat": 4,
 "nbformat_minor": 5
}
